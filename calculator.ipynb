{
 "cells": [
  {
   "cell_type": "code",
   "execution_count": null,
   "metadata": {},
   "outputs": [],
   "source": [
    "def calculator():\n",
    "    print('Welcome to simple calculator!')\n",
    "    \n",
    "    try:\n",
    "        num1 = float(input('Enter first number:'))\n",
    "        num2 = float(input('enter second number:'))\n",
    "    except ValueError:\n",
    "        print('Invalid input! enter numerical values.')\n",
    "        return\n",
    "    \n",
    "    print('choose an opeartion;')\n",
    "    print('1. Addition (+)')\n",
    "    print('2. Substraction (-)')\n",
    "    print('3. multiplication (*)')\n",
    "    print('4. Division (/)')\n",
    "    \n",
    "    operation = input('enter opeartion(+, -, *, /):')\n",
    "    \n",
    "    if operation == '+':\n",
    "        res = num1 + num2\n",
    "        print(f\"res of {num1} + {num2} is {res}.\")\n",
    "    elif operation == '-':\n",
    "        res = num1 - num2 \n",
    "        print(f\"res of {num1} - {num2} is {res}.\")\n",
    "    elif operation == '*':\n",
    "        res = num1 * num2\n",
    "        print(f\"res of {num1} * {num2} is {res}.\")\n",
    "    elif operation == '/':\n",
    "        if num2 != 0:\n",
    "            res = num1 / num2\n",
    "            print(f\"res of {num1} / {num2} is {res}\")\n",
    "        else:\n",
    "            print('error: division by zero is not allowed')\n",
    "    else:\n",
    "        print('invalid operatoin! choose +, -, *, /.')\n",
    "    \n",
    "    \n",
    "calculator()        \n",
    "    "
   ]
  }
 ],
 "metadata": {
  "kernelspec": {
   "display_name": "Python 3",
   "language": "python",
   "name": "python3"
  },
  "language_info": {
   "codemirror_mode": {
    "name": "ipython",
    "version": 3
   },
   "file_extension": ".py",
   "mimetype": "text/x-python",
   "name": "python",
   "nbconvert_exporter": "python",
   "pygments_lexer": "ipython3",
   "version": "3.12.2"
  }
 },
 "nbformat": 4,
 "nbformat_minor": 2
}
