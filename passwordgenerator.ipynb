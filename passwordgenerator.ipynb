{
 "cells": [
  {
   "cell_type": "code",
   "execution_count": null,
   "metadata": {},
   "outputs": [],
   "source": [
    "import random\n",
    "import string\n",
    "\n",
    "def generate_password(len):\n",
    "    \n",
    "    #define the character set\n",
    "    characters = string.ascii_letters + string.digits + string.punctuation\n",
    "    \n",
    "    #generate the password\n",
    "    password = ''.join(random.choice(characters) for _ in range(len)) \n",
    "    return password\n",
    "\n",
    "#get user input for password length \n",
    "try:\n",
    "    password_len = int(input('enter desired password len:')) \n",
    "    if password_len <= 0:\n",
    "        print('enter positive integer for password len.') \n",
    "    else:\n",
    "        generate_password = generate_password(password_len)\n",
    "        print(f\"generated password: {generate_password}\")\n",
    "except ValueError:\n",
    "    print('Invalid input. Pls enter valid positive integer.')\n",
    "    "
   ]
  }
 ],
 "metadata": {
  "kernelspec": {
   "display_name": "Python 3",
   "language": "python",
   "name": "python3"
  },
  "language_info": {
   "codemirror_mode": {
    "name": "ipython",
    "version": 3
   },
   "file_extension": ".py",
   "mimetype": "text/x-python",
   "name": "python",
   "nbconvert_exporter": "python",
   "pygments_lexer": "ipython3",
   "version": "3.12.2"
  }
 },
 "nbformat": 4,
 "nbformat_minor": 2
}
